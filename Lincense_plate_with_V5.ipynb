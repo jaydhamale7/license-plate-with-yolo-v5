{
  "nbformat": 4,
  "nbformat_minor": 0,
  "metadata": {
    "colab": {
      "name": "Lincense_plate with V5.ipynb",
      "provenance": []
    },
    "kernelspec": {
      "name": "python3",
      "display_name": "Python 3"
    },
    "accelerator": "GPU"
  },
  "cells": [
    {
      "cell_type": "markdown",
      "metadata": {
        "id": "CESMmE_GiYh3"
      },
      "source": [
        "Download Data "
      ]
    },
    {
      "cell_type": "code",
      "metadata": {
        "id": "p_lbAefI836L"
      },
      "source": [
        "from IPython.display import clear_output"
      ],
      "execution_count": null,
      "outputs": []
    },
    {
      "cell_type": "code",
      "metadata": {
        "id": "kFvac1J79rWq"
      },
      "source": [
        "!pip install openimages\r\n",
        "clear_output()"
      ],
      "execution_count": null,
      "outputs": []
    },
    {
      "cell_type": "code",
      "metadata": {
        "id": "5rm4-hB8-2U9"
      },
      "source": [
        "!mkdir data"
      ],
      "execution_count": null,
      "outputs": []
    },
    {
      "cell_type": "code",
      "metadata": {
        "colab": {
          "base_uri": "https://localhost:8080/"
        },
        "id": "DySvocVn_Okl",
        "outputId": "148e6785-03cf-41d8-c032-9ffad4dee03c"
      },
      "source": [
        "from openimages.download import download_dataset\r\n",
        "download_dataset(\"data\", [\"Vehicle registration plate\"], annotation_format=\"darknet\",limit=3000)"
      ],
      "execution_count": null,
      "outputs": [
        {
          "output_type": "stream",
          "text": [
            "2021-01-05  07:53:02 INFO NumExpr defaulting to 2 threads.\n",
            "2021-01-05  07:53:05 INFO Downloading 3000 train images for class 'vehicle registration plate'\n",
            "100%|██████████| 3000/3000 [01:04<00:00, 46.33it/s]\n",
            "2021-01-05  07:54:10 INFO Creating 3000 train annotations (darknet) for class 'vehicle registration plate'\n",
            "100%|██████████| 3000/3000 [00:01<00:00, 2829.16it/s]\n"
          ],
          "name": "stderr"
        },
        {
          "output_type": "execute_result",
          "data": {
            "text/plain": [
              "{'vehicle registration plate': {'annotations_dir': 'data/vehicle registration plate/darknet',\n",
              "  'images_dir': 'data/vehicle registration plate/images'}}"
            ]
          },
          "metadata": {
            "tags": []
          },
          "execution_count": 4
        }
      ]
    },
    {
      "cell_type": "markdown",
      "metadata": {
        "id": "GoAFXRt3iRo9"
      },
      "source": [
        "Prepare Data In Yolo V5 Format"
      ]
    },
    {
      "cell_type": "code",
      "metadata": {
        "id": "eIsdLv7FCT0N"
      },
      "source": [
        "!mkdir dataset dataset/images dataset/labels\r\n",
        "!mkdir dataset/images/train dataset/images/val\r\n",
        "!mkdir dataset/labels/train dataset/labels/val"
      ],
      "execution_count": null,
      "outputs": []
    },
    {
      "cell_type": "code",
      "metadata": {
        "colab": {
          "base_uri": "https://localhost:8080/"
        },
        "id": "6VflYa6PAAG5",
        "outputId": "9e422dd2-46f7-40c1-abe5-500731d6708e"
      },
      "source": [
        "import os\r\n",
        "all_ = [i for i in os.listdir('/content/data/vehicle registration plate/images')]\r\n",
        "train = all_[:2400]\r\n",
        "test = all_[2400:]\r\n",
        "len(all_),len(train),len(test)"
      ],
      "execution_count": null,
      "outputs": [
        {
          "output_type": "execute_result",
          "data": {
            "text/plain": [
              "(3000, 2400, 600)"
            ]
          },
          "metadata": {
            "tags": []
          },
          "execution_count": 6
        }
      ]
    },
    {
      "cell_type": "code",
      "metadata": {
        "id": "HQRax85gMhAk"
      },
      "source": [
        "!cp data/vehicle\\ registration\\ plate/images/* dataset/images/train/\r\n",
        "!cp data/vehicle\\ registration\\ plate/images/* dataset/images/val/\r\n",
        "!cp data/vehicle\\ registration\\ plate/darknet/* dataset/labels/train/\r\n",
        "!cp data/vehicle\\ registration\\ plate/darknet/* dataset/labels/val/"
      ],
      "execution_count": null,
      "outputs": []
    },
    {
      "cell_type": "code",
      "metadata": {
        "id": "8YuasQ4SNJQ9"
      },
      "source": [
        "for i in os.listdir(\"/content/dataset/images/train\"):\r\n",
        "  if i not in train:\r\n",
        "    os.remove(f\"/content/dataset/images/train/{i}\")\r\n",
        "for i in os.listdir(\"/content/dataset/images/val\"):\r\n",
        "  if i not in test:\r\n",
        "    os.remove(f\"/content/dataset/images/val/{i}\")"
      ],
      "execution_count": null,
      "outputs": []
    },
    {
      "cell_type": "code",
      "metadata": {
        "colab": {
          "base_uri": "https://localhost:8080/"
        },
        "id": "S0W6N6k2NsOs",
        "outputId": "b5e27f1e-d75e-4910-91a5-17b762141245"
      },
      "source": [
        "len(os.listdir(\"/content/dataset/images/train\")),len(os.listdir(\"/content/dataset/images/val\"))"
      ],
      "execution_count": null,
      "outputs": [
        {
          "output_type": "execute_result",
          "data": {
            "text/plain": [
              "(2400, 600)"
            ]
          },
          "metadata": {
            "tags": []
          },
          "execution_count": 9
        }
      ]
    },
    {
      "cell_type": "code",
      "metadata": {
        "id": "kejaFi7sOMkK"
      },
      "source": [
        "for i in os.listdir(\"/content/data/vehicle registration plate/images\"):\r\n",
        "  if i not in train:\r\n",
        "    os.remove(f\"/content/dataset/labels/train/{i.split('.')[0]}.txt\")\r\n",
        "for i in os.listdir(\"/content/data/vehicle registration plate/images\"):\r\n",
        "  if i not in test:\r\n",
        "    os.remove(f\"/content/dataset/labels/val/{i.split('.')[0]}.txt\")"
      ],
      "execution_count": null,
      "outputs": []
    },
    {
      "cell_type": "code",
      "metadata": {
        "colab": {
          "base_uri": "https://localhost:8080/"
        },
        "id": "OL1WUcErOqbr",
        "outputId": "01de02e6-7744-4800-d3c7-a7835df95d83"
      },
      "source": [
        "len(os.listdir(\"/content/dataset/labels/train\")),len(os.listdir(\"/content/dataset/labels/val\"))"
      ],
      "execution_count": null,
      "outputs": [
        {
          "output_type": "execute_result",
          "data": {
            "text/plain": [
              "(2400, 600)"
            ]
          },
          "metadata": {
            "tags": []
          },
          "execution_count": 11
        }
      ]
    },
    {
      "cell_type": "markdown",
      "metadata": {
        "id": "M_kXWTI3QTBE"
      },
      "source": [
        "Yolo V5"
      ]
    },
    {
      "cell_type": "code",
      "metadata": {
        "id": "Vpgul8gGFOj9"
      },
      "source": [
        "!git clone https://github.com/ultralytics/yolov5  # clone repo\r\n",
        "%cd yolov5\r\n",
        "!pip install -r requirements.txt\r\n",
        "clear_output()"
      ],
      "execution_count": null,
      "outputs": []
    },
    {
      "cell_type": "code",
      "metadata": {
        "colab": {
          "base_uri": "https://localhost:8080/"
        },
        "id": "-hyZqWeOQUf7",
        "outputId": "32e0476c-ef6a-4a86-8f73-c5ecefed6d0d"
      },
      "source": [
        "import torch\r\n",
        "from IPython.display import Image, clear_output  # to display images\r\n",
        "print('Setup complete. Using torch %s %s' % (torch.__version__, torch.cuda.get_device_properties(0) if torch.cuda.is_available() else 'CPU'))"
      ],
      "execution_count": null,
      "outputs": [
        {
          "output_type": "stream",
          "text": [
            "Setup complete. Using torch 1.7.0+cu101 _CudaDeviceProperties(name='Tesla T4', major=7, minor=5, total_memory=15079MB, multi_processor_count=40)\n"
          ],
          "name": "stdout"
        }
      ]
    },
    {
      "cell_type": "code",
      "metadata": {
        "id": "Wk-yP5HXDQwp"
      },
      "source": [
        "!cp /content/yolov5/data/coco128.yaml ../"
      ],
      "execution_count": null,
      "outputs": []
    },
    {
      "cell_type": "markdown",
      "metadata": {
        "id": "9LXpi-3zixBJ"
      },
      "source": [
        "Create a data.yaml"
      ]
    },
    {
      "cell_type": "markdown",
      "metadata": {
        "id": "FFEXLENejETQ"
      },
      "source": [
        "train: ../dataset/images/train\r\n",
        "\r\n",
        "val: ../dataset/images/val\r\n",
        "\r\n",
        "nc: 1\r\n",
        "\r\n",
        "names: ['license_plate']"
      ]
    },
    {
      "cell_type": "code",
      "metadata": {
        "colab": {
          "base_uri": "https://localhost:8080/"
        },
        "id": "EZEIU4vhVph1",
        "outputId": "3f88abb0-7bb2-42a6-9003-5e0a354cecb0"
      },
      "source": [
        "!python train.py --img 640 --batch 64 --epochs 30 --data /content/data.yaml \\\r\n",
        " --weights yolov5s.pt --nosave --cache"
      ],
      "execution_count": null,
      "outputs": [
        {
          "output_type": "stream",
          "text": [
            "Using torch 1.7.0+cu101 CUDA:0 (Tesla T4, 15079.75MB)\n",
            "\n",
            "\n",
            "Namespace(adam=False, batch_size=64, bucket='', cache_images=True, cfg='', data='/content/data.yaml', device='', epochs=30, evolve=False, exist_ok=False, global_rank=-1, hyp='data/hyp.scratch.yaml', image_weights=False, img_size=[640, 640], local_rank=-1, log_artifacts=False, log_imgs=16, multi_scale=False, name='exp', noautoanchor=False, nosave=True, notest=False, project='runs/train', quad=False, rect=False, resume=False, save_dir='runs/train/exp', single_cls=False, sync_bn=False, total_batch_size=64, weights='yolov5s.pt', workers=8, world_size=1)\n",
            "Start Tensorboard with \"tensorboard --logdir runs/train\", view at http://localhost:6006/\n",
            "Hyperparameters {'lr0': 0.01, 'lrf': 0.2, 'momentum': 0.937, 'weight_decay': 0.0005, 'warmup_epochs': 3.0, 'warmup_momentum': 0.8, 'warmup_bias_lr': 0.1, 'box': 0.05, 'cls': 0.5, 'cls_pw': 1.0, 'obj': 1.0, 'obj_pw': 1.0, 'iou_t': 0.2, 'anchor_t': 4.0, 'fl_gamma': 0.0, 'hsv_h': 0.015, 'hsv_s': 0.7, 'hsv_v': 0.4, 'degrees': 0.0, 'translate': 0.1, 'scale': 0.5, 'shear': 0.0, 'perspective': 0.0, 'flipud': 0.0, 'fliplr': 0.5, 'mosaic': 1.0, 'mixup': 0.0}\n",
            "Downloading https://github.com/ultralytics/yolov5/releases/download/v4.0/yolov5s.pt to yolov5s.pt...\n",
            "100% 14.1M/14.1M [00:00<00:00, 19.7MB/s]\n",
            "\n",
            "Overriding model.yaml nc=80 with nc=1\n",
            "\n",
            "                 from  n    params  module                                  arguments                     \n",
            "  0                -1  1      3520  models.common.Focus                     [3, 32, 3]                    \n",
            "  1                -1  1     18560  models.common.Conv                      [32, 64, 3, 2]                \n",
            "  2                -1  1     18816  models.common.C3                        [64, 64, 1]                   \n",
            "  3                -1  1     73984  models.common.Conv                      [64, 128, 3, 2]               \n",
            "  4                -1  1    156928  models.common.C3                        [128, 128, 3]                 \n",
            "  5                -1  1    295424  models.common.Conv                      [128, 256, 3, 2]              \n",
            "  6                -1  1    625152  models.common.C3                        [256, 256, 3]                 \n",
            "  7                -1  1   1180672  models.common.Conv                      [256, 512, 3, 2]              \n",
            "  8                -1  1    656896  models.common.SPP                       [512, 512, [5, 9, 13]]        \n",
            "  9                -1  1   1182720  models.common.C3                        [512, 512, 1, False]          \n",
            " 10                -1  1    131584  models.common.Conv                      [512, 256, 1, 1]              \n",
            " 11                -1  1         0  torch.nn.modules.upsampling.Upsample    [None, 2, 'nearest']          \n",
            " 12           [-1, 6]  1         0  models.common.Concat                    [1]                           \n",
            " 13                -1  1    361984  models.common.C3                        [512, 256, 1, False]          \n",
            " 14                -1  1     33024  models.common.Conv                      [256, 128, 1, 1]              \n",
            " 15                -1  1         0  torch.nn.modules.upsampling.Upsample    [None, 2, 'nearest']          \n",
            " 16           [-1, 4]  1         0  models.common.Concat                    [1]                           \n",
            " 17                -1  1     90880  models.common.C3                        [256, 128, 1, False]          \n",
            " 18                -1  1    147712  models.common.Conv                      [128, 128, 3, 2]              \n",
            " 19          [-1, 14]  1         0  models.common.Concat                    [1]                           \n",
            " 20                -1  1    296448  models.common.C3                        [256, 256, 1, False]          \n",
            " 21                -1  1    590336  models.common.Conv                      [256, 256, 3, 2]              \n",
            " 22          [-1, 10]  1         0  models.common.Concat                    [1]                           \n",
            " 23                -1  1   1182720  models.common.C3                        [512, 512, 1, False]          \n",
            " 24      [17, 20, 23]  1     16182  models.yolo.Detect                      [1, [[10, 13, 16, 30, 33, 23], [30, 61, 62, 45, 59, 119], [116, 90, 156, 198, 373, 326]], [128, 256, 512]]\n",
            "Model Summary: 283 layers, 7063542 parameters, 7063542 gradients, 16.4 GFLOPS\n",
            "\n",
            "Transferred 356/362 items from yolov5s.pt\n",
            "Scaled weight_decay = 0.0005\n",
            "Optimizer groups: 62 .bias, 62 conv.weight, 59 other\n",
            "Scanning '../dataset/labels/train' for images and labels... 2400 found, 0 missing, 0 empty, 0 corrupted: 100% 2400/2400 [00:00<00:00, 3700.68it/s]\n",
            "New cache created: ../dataset/labels/train.cache\n",
            "Scanning '../dataset/labels/train.cache' for images and labels... 2400 found, 0 missing, 0 empty, 0 corrupted: 100% 2400/2400 [00:00<00:00, 26843545.60it/s]\n",
            "Caching images (2.1GB): 100% 2400/2400 [00:29<00:00, 80.83it/s]\n",
            "Scanning '../dataset/labels/val' for images and labels... 600 found, 0 missing, 0 empty, 0 corrupted: 100% 600/600 [00:00<00:00, 2420.00it/s]\n",
            "New cache created: ../dataset/labels/val.cache\n",
            "Scanning '../dataset/labels/val.cache' for images and labels... 600 found, 0 missing, 0 empty, 0 corrupted: 100% 600/600 [00:00<00:00, 5343062.42it/s]\n",
            "Caching images (0.5GB): 100% 600/600 [00:11<00:00, 50.90it/s]\n",
            "Plotting labels... \n",
            "NumExpr defaulting to 2 threads.\n",
            "\n",
            "Analyzing anchors... anchors/target = 3.61, Best Possible Recall (BPR) = 0.9853\n",
            "Image sizes 640 train, 640 test\n",
            "Using 2 dataloader workers\n",
            "Logging results to runs/train/exp\n",
            "Starting training for 30 epochs...\n",
            "\n",
            "     Epoch   gpu_mem       box       obj       cls     total   targets  img_size\n",
            "      0/29      6.6G    0.1133   0.01682         0    0.1301        77       640: 100% 38/38 [00:43<00:00,  1.15s/it]\n",
            "               Class      Images     Targets           P           R      mAP@.5  mAP@.5:.95: 100% 10/10 [00:15<00:00,  1.52s/it]\n",
            "                 all         600         802           0           0    0.000583    0.000129\n",
            "\n",
            "     Epoch   gpu_mem       box       obj       cls     total   targets  img_size\n",
            "      1/29     12.1G   0.08695   0.01632         0    0.1033        91       640: 100% 38/38 [00:31<00:00,  1.19it/s]\n",
            "               Class      Images     Targets           P           R      mAP@.5  mAP@.5:.95: 100% 10/10 [00:05<00:00,  1.81it/s]\n",
            "                 all         600         802           1     0.00125       0.105      0.0327\n",
            "\n",
            "     Epoch   gpu_mem       box       obj       cls     total   targets  img_size\n",
            "      2/29     12.1G   0.06699   0.01675         0   0.08374        74       640: 100% 38/38 [00:31<00:00,  1.20it/s]\n",
            "               Class      Images     Targets           P           R      mAP@.5  mAP@.5:.95: 100% 10/10 [00:05<00:00,  1.80it/s]\n",
            "                 all         600         802       0.352       0.352       0.266       0.066\n",
            "\n",
            "     Epoch   gpu_mem       box       obj       cls     total   targets  img_size\n",
            "      3/29     12.1G   0.05748   0.01491         0   0.07239        80       640: 100% 38/38 [00:31<00:00,  1.20it/s]\n",
            "               Class      Images     Targets           P           R      mAP@.5  mAP@.5:.95: 100% 10/10 [00:05<00:00,  1.76it/s]\n",
            "                 all         600         802       0.402       0.559       0.435       0.123\n",
            "\n",
            "     Epoch   gpu_mem       box       obj       cls     total   targets  img_size\n",
            "      4/29     12.1G   0.05262    0.0137         0   0.06632        74       640: 100% 38/38 [00:32<00:00,  1.19it/s]\n",
            "               Class      Images     Targets           P           R      mAP@.5  mAP@.5:.95: 100% 10/10 [00:05<00:00,  1.98it/s]\n",
            "                 all         600         802       0.498       0.673       0.595       0.218\n",
            "\n",
            "     Epoch   gpu_mem       box       obj       cls     total   targets  img_size\n",
            "      5/29     12.1G   0.04983   0.01241         0   0.06224        83       640: 100% 38/38 [00:32<00:00,  1.19it/s]\n",
            "               Class      Images     Targets           P           R      mAP@.5  mAP@.5:.95: 100% 10/10 [00:05<00:00,  1.85it/s]\n",
            "                 all         600         802       0.353       0.776       0.498       0.157\n",
            "\n",
            "     Epoch   gpu_mem       box       obj       cls     total   targets  img_size\n",
            "      6/29     12.1G   0.04726   0.01157         0   0.05883        72       640: 100% 38/38 [00:32<00:00,  1.18it/s]\n",
            "               Class      Images     Targets           P           R      mAP@.5  mAP@.5:.95: 100% 10/10 [00:04<00:00,  2.02it/s]\n",
            "                 all         600         802       0.462       0.827       0.715       0.303\n",
            "\n",
            "     Epoch   gpu_mem       box       obj       cls     total   targets  img_size\n",
            "      7/29     12.1G   0.04562   0.01061         0   0.05623        70       640: 100% 38/38 [00:32<00:00,  1.18it/s]\n",
            "               Class      Images     Targets           P           R      mAP@.5  mAP@.5:.95: 100% 10/10 [00:04<00:00,  2.05it/s]\n",
            "                 all         600         802        0.46       0.844       0.734       0.304\n",
            "\n",
            "     Epoch   gpu_mem       box       obj       cls     total   targets  img_size\n",
            "      8/29     12.1G   0.04396  0.009706         0   0.05366        79       640: 100% 38/38 [00:32<00:00,  1.16it/s]\n",
            "               Class      Images     Targets           P           R      mAP@.5  mAP@.5:.95: 100% 10/10 [00:04<00:00,  2.02it/s]\n",
            "                 all         600         802       0.457       0.855       0.716       0.288\n",
            "\n",
            "     Epoch   gpu_mem       box       obj       cls     total   targets  img_size\n",
            "      9/29     12.1G   0.04219   0.00931         0    0.0515        62       640: 100% 38/38 [00:32<00:00,  1.16it/s]\n",
            "               Class      Images     Targets           P           R      mAP@.5  mAP@.5:.95: 100% 10/10 [00:04<00:00,  2.05it/s]\n",
            "                 all         600         802       0.527       0.853        0.75       0.321\n",
            "\n",
            "     Epoch   gpu_mem       box       obj       cls     total   targets  img_size\n",
            "     10/29     12.1G   0.04141  0.008633         0   0.05004        62       640: 100% 38/38 [00:32<00:00,  1.17it/s]\n",
            "               Class      Images     Targets           P           R      mAP@.5  mAP@.5:.95: 100% 10/10 [00:04<00:00,  2.02it/s]\n",
            "                 all         600         802       0.506       0.864       0.747       0.329\n",
            "\n",
            "     Epoch   gpu_mem       box       obj       cls     total   targets  img_size\n",
            "     11/29     12.1G   0.03899   0.00819         0   0.04718        70       640: 100% 38/38 [00:32<00:00,  1.17it/s]\n",
            "               Class      Images     Targets           P           R      mAP@.5  mAP@.5:.95: 100% 10/10 [00:04<00:00,  2.18it/s]\n",
            "                 all         600         802       0.532       0.867       0.796       0.345\n",
            "\n",
            "     Epoch   gpu_mem       box       obj       cls     total   targets  img_size\n",
            "     12/29     12.1G   0.03897  0.008023         0     0.047        78       640: 100% 38/38 [00:32<00:00,  1.16it/s]\n",
            "               Class      Images     Targets           P           R      mAP@.5  mAP@.5:.95: 100% 10/10 [00:04<00:00,  2.06it/s]\n",
            "                 all         600         802       0.523       0.869       0.782       0.364\n",
            "\n",
            "     Epoch   gpu_mem       box       obj       cls     total   targets  img_size\n",
            "     13/29     12.1G   0.03869  0.007704         0   0.04639        90       640: 100% 38/38 [00:32<00:00,  1.17it/s]\n",
            "               Class      Images     Targets           P           R      mAP@.5  mAP@.5:.95: 100% 10/10 [00:04<00:00,  2.02it/s]\n",
            "                 all         600         802       0.496       0.887       0.793        0.36\n",
            "\n",
            "     Epoch   gpu_mem       box       obj       cls     total   targets  img_size\n",
            "     14/29     12.1G   0.03676  0.007685         0   0.04445        94       640: 100% 38/38 [00:32<00:00,  1.17it/s]\n",
            "               Class      Images     Targets           P           R      mAP@.5  mAP@.5:.95: 100% 10/10 [00:04<00:00,  2.07it/s]\n",
            "                 all         600         802       0.541        0.88       0.794       0.362\n",
            "\n",
            "     Epoch   gpu_mem       box       obj       cls     total   targets  img_size\n",
            "     15/29     12.1G   0.03603  0.007472         0    0.0435        83       640: 100% 38/38 [00:32<00:00,  1.16it/s]\n",
            "               Class      Images     Targets           P           R      mAP@.5  mAP@.5:.95: 100% 10/10 [00:04<00:00,  2.17it/s]\n",
            "                 all         600         802       0.565       0.889       0.828       0.391\n",
            "\n",
            "     Epoch   gpu_mem       box       obj       cls     total   targets  img_size\n",
            "     16/29     12.1G   0.03479  0.007339         0   0.04213        70       640: 100% 38/38 [00:32<00:00,  1.16it/s]\n",
            "               Class      Images     Targets           P           R      mAP@.5  mAP@.5:.95: 100% 10/10 [00:04<00:00,  2.06it/s]\n",
            "                 all         600         802       0.578       0.887       0.809       0.393\n",
            "\n",
            "     Epoch   gpu_mem       box       obj       cls     total   targets  img_size\n",
            "     17/29     12.1G    0.0343  0.007136         0   0.04144        68       640: 100% 38/38 [00:32<00:00,  1.15it/s]\n",
            "               Class      Images     Targets           P           R      mAP@.5  mAP@.5:.95: 100% 10/10 [00:04<00:00,  2.03it/s]\n",
            "                 all         600         802        0.59       0.882       0.814       0.387\n",
            "\n",
            "     Epoch   gpu_mem       box       obj       cls     total   targets  img_size\n",
            "     18/29     12.1G   0.03416   0.00699         0   0.04115        82       640: 100% 38/38 [00:32<00:00,  1.15it/s]\n",
            "               Class      Images     Targets           P           R      mAP@.5  mAP@.5:.95: 100% 10/10 [00:04<00:00,  2.04it/s]\n",
            "                 all         600         802       0.575       0.883       0.826        0.39\n",
            "\n",
            "     Epoch   gpu_mem       box       obj       cls     total   targets  img_size\n",
            "     19/29     12.1G   0.03223  0.006914         0   0.03915        66       640: 100% 38/38 [00:32<00:00,  1.16it/s]\n",
            "               Class      Images     Targets           P           R      mAP@.5  mAP@.5:.95: 100% 10/10 [00:04<00:00,  2.02it/s]\n",
            "                 all         600         802       0.528       0.879       0.816       0.385\n",
            "\n",
            "     Epoch   gpu_mem       box       obj       cls     total   targets  img_size\n",
            "     20/29     12.1G   0.03207  0.006882         0   0.03896        66       640: 100% 38/38 [00:32<00:00,  1.16it/s]\n",
            "               Class      Images     Targets           P           R      mAP@.5  mAP@.5:.95: 100% 10/10 [00:04<00:00,  2.12it/s]\n",
            "                 all         600         802       0.607       0.875       0.824       0.395\n",
            "\n",
            "     Epoch   gpu_mem       box       obj       cls     total   targets  img_size\n",
            "     21/29     12.1G   0.03195  0.006787         0   0.03874        68       640: 100% 38/38 [00:32<00:00,  1.17it/s]\n",
            "               Class      Images     Targets           P           R      mAP@.5  mAP@.5:.95: 100% 10/10 [00:04<00:00,  2.05it/s]\n",
            "                 all         600         802       0.606       0.874       0.816       0.403\n",
            "\n",
            "     Epoch   gpu_mem       box       obj       cls     total   targets  img_size\n",
            "     22/29     12.1G   0.03113    0.0068         0   0.03793        91       640: 100% 38/38 [00:33<00:00,  1.15it/s]\n",
            "               Class      Images     Targets           P           R      mAP@.5  mAP@.5:.95: 100% 10/10 [00:04<00:00,  2.23it/s]\n",
            "                 all         600         802       0.638       0.869       0.827       0.415\n",
            "\n",
            "     Epoch   gpu_mem       box       obj       cls     total   targets  img_size\n",
            "     23/29     12.1G   0.03015  0.006781         0   0.03693        70       640: 100% 38/38 [00:32<00:00,  1.17it/s]\n",
            "               Class      Images     Targets           P           R      mAP@.5  mAP@.5:.95: 100% 10/10 [00:05<00:00,  1.99it/s]\n",
            "                 all         600         802       0.581       0.877       0.816       0.397\n",
            "\n",
            "     Epoch   gpu_mem       box       obj       cls     total   targets  img_size\n",
            "     24/29     12.1G   0.03013  0.006703         0   0.03684        90       640: 100% 38/38 [00:32<00:00,  1.16it/s]\n",
            "               Class      Images     Targets           P           R      mAP@.5  mAP@.5:.95: 100% 10/10 [00:04<00:00,  2.00it/s]\n",
            "                 all         600         802       0.578       0.885       0.835       0.408\n",
            "\n",
            "     Epoch   gpu_mem       box       obj       cls     total   targets  img_size\n",
            "     25/29     12.1G   0.02966  0.006595         0   0.03625        70       640: 100% 38/38 [00:32<00:00,  1.16it/s]\n",
            "               Class      Images     Targets           P           R      mAP@.5  mAP@.5:.95: 100% 10/10 [00:04<00:00,  2.21it/s]\n",
            "                 all         600         802       0.605       0.865       0.819       0.417\n",
            "\n",
            "     Epoch   gpu_mem       box       obj       cls     total   targets  img_size\n",
            "     26/29     12.1G   0.02985  0.006478         0   0.03633        77       640: 100% 38/38 [00:33<00:00,  1.15it/s]\n",
            "               Class      Images     Targets           P           R      mAP@.5  mAP@.5:.95: 100% 10/10 [00:04<00:00,  2.14it/s]\n",
            "                 all         600         802       0.593       0.883       0.832       0.417\n",
            "\n",
            "     Epoch   gpu_mem       box       obj       cls     total   targets  img_size\n",
            "     27/29     12.1G   0.02912  0.006417         0   0.03554        60       640: 100% 38/38 [00:32<00:00,  1.16it/s]\n",
            "               Class      Images     Targets           P           R      mAP@.5  mAP@.5:.95: 100% 10/10 [00:04<00:00,  2.18it/s]\n",
            "                 all         600         802       0.639       0.883       0.846       0.414\n",
            "\n",
            "     Epoch   gpu_mem       box       obj       cls     total   targets  img_size\n",
            "     28/29     12.1G   0.02918  0.006521         0    0.0357        83       640: 100% 38/38 [00:32<00:00,  1.16it/s]\n",
            "               Class      Images     Targets           P           R      mAP@.5  mAP@.5:.95: 100% 10/10 [00:04<00:00,  2.04it/s]\n",
            "                 all         600         802       0.612       0.885       0.834       0.426\n",
            "\n",
            "     Epoch   gpu_mem       box       obj       cls     total   targets  img_size\n",
            "     29/29     12.1G   0.02834  0.006568         0   0.03491        77       640: 100% 38/38 [00:32<00:00,  1.16it/s]\n",
            "               Class      Images     Targets           P           R      mAP@.5  mAP@.5:.95: 100% 10/10 [00:06<00:00,  1.63it/s]\n",
            "                 all         600         802       0.635       0.868       0.839       0.424\n",
            "Optimizer stripped from runs/train/exp/weights/last.pt, 14.4MB\n",
            "30 epochs completed in 0.320 hours.\n",
            "\n"
          ],
          "name": "stdout"
        }
      ]
    },
    {
      "cell_type": "markdown",
      "metadata": {
        "id": "krsDBXFvRnEz"
      },
      "source": [
        "Export"
      ]
    },
    {
      "cell_type": "code",
      "metadata": {
        "id": "rV826Bp0fYlO"
      },
      "source": [
        "!pip install onnx\r\n",
        "!pip install coremltools\r\n",
        "clear_output()"
      ],
      "execution_count": null,
      "outputs": []
    },
    {
      "cell_type": "code",
      "metadata": {
        "colab": {
          "base_uri": "https://localhost:8080/"
        },
        "id": "-Es4iIftrdBJ",
        "outputId": "816bcf4d-8d91-41ac-f1f3-aa61157fc3ad"
      },
      "source": [
        "!python models/export.py --weights runs/train/exp3/weights/last.pt --img 640 --batch 1"
      ],
      "execution_count": null,
      "outputs": [
        {
          "output_type": "stream",
          "text": [
            "Namespace(batch_size=1, img_size=[640, 640], weights='runs/train/exp3/weights/last.pt')\n",
            "Fusing layers... \n",
            "Model Summary: 232 layers, 7246518 parameters, 0 gradients, 16.8 GFLOPS\n",
            "\n",
            "Starting TorchScript export with torch 1.7.0+cu101...\n",
            "/usr/local/lib/python3.6/dist-packages/torch/jit/_trace.py:940: TracerWarning: Encountering a list at the output of the tracer might cause the trace to be incorrect, this is only valid if the container structure does not change based on the module's inputs. Consider using a constant container instead (e.g. for `list`, use a `tuple` instead. for `dict`, use a `NamedTuple` instead). If you absolutely need this and know the side effects, pass strict=False to trace() to allow this behavior.\n",
            "  _force_outplace,\n",
            "TorchScript export success, saved as runs/train/exp3/weights/last.torchscript.pt\n",
            "\n",
            "Starting ONNX export with onnx 1.8.0...\n",
            "ONNX export success, saved as runs/train/exp3/weights/last.onnx\n",
            "scikit-learn version 0.22.2.post1 is not supported. Minimum required version: 0.17. Maximum required version: 0.19.2. Disabling scikit-learn conversion API.\n",
            "TensorFlow version 2.4.0 detected. Last version known to be fully compatible is 2.3.1 .\n",
            "Keras version 2.4.3 detected. Last version known to be fully compatible of Keras is 2.2.4 .\n",
            "\n",
            "Starting CoreML export with coremltools 4.0...\n",
            "Tuple detected at graph output. This will be flattened in the converted model.\n",
            "Converting graph.\n",
            "Adding op '1' of type const\n",
            "Adding op '2' of type const\n",
            "Adding op '3' of type const\n",
            "Adding op '4' of type const\n",
            "Adding op '5' of type const\n",
            "Adding op '6' of type const\n",
            "Adding op '7' of type const\n",
            "Adding op '8' of type const\n",
            "Adding op '9' of type const\n",
            "Adding op '10' of type const\n",
            "Adding op '11' of type const\n",
            "Adding op '12' of type const\n",
            "Adding op '13' of type const\n",
            "Adding op '14' of type const\n",
            "Adding op '15' of type const\n",
            "Adding op '16' of type const\n",
            "Adding op '17' of type const\n",
            "Adding op '18' of type const\n",
            "Adding op '19' of type const\n",
            "Adding op '20' of type const\n",
            "Adding op '21' of type const\n",
            "Adding op '22' of type const\n",
            "Adding op '23' of type const\n",
            "Adding op '24' of type const\n",
            "Adding op '25' of type const\n",
            "Adding op '26' of type const\n",
            "Adding op '27' of type const\n",
            "Adding op '28' of type const\n",
            "Adding op '29' of type const\n",
            "Adding op '30' of type const\n",
            "Adding op '31' of type const\n",
            "Adding op '32' of type const\n",
            "Adding op '33' of type const\n",
            "Adding op '34' of type const\n",
            "Adding op '35' of type const\n",
            "Adding op '36' of type const\n",
            "Adding op '37' of type const\n",
            "Adding op '38' of type const\n",
            "Adding op '39' of type const\n",
            "Adding op '40' of type const\n",
            "Adding op '41' of type const\n",
            "Adding op '42' of type const\n",
            "Adding op '43' of type const\n",
            "Adding op '44' of type const\n",
            "Adding op '45' of type const\n",
            "Adding op '46' of type const\n",
            "Adding op '47' of type const\n",
            "Adding op '48' of type const\n",
            "Adding op '49' of type const\n",
            "Adding op '50' of type const\n",
            "Adding op '51' of type const\n",
            "Adding op '52' of type const\n",
            "Adding op '53' of type const\n",
            "Adding op '54' of type const\n",
            "Adding op '55' of type const\n",
            "Adding op '56' of type const\n",
            "Adding op '57' of type const\n",
            "Adding op '58' of type const\n",
            "Adding op '59' of type const\n",
            "Adding op '60' of type const\n",
            "Adding op '61' of type const\n",
            "Adding op '62' of type const\n",
            "Adding op '63' of type const\n",
            "Adding op '64' of type const\n",
            "Adding op '65' of type const\n",
            "Adding op '66' of type const\n",
            "Adding op '67' of type const\n",
            "Adding op '68' of type const\n",
            "Adding op '69' of type const\n",
            "Adding op '70' of type const\n",
            "Adding op '71' of type const\n",
            "Adding op '72' of type const\n",
            "Adding op '73' of type const\n",
            "Adding op '74' of type const\n",
            "Adding op '75' of type const\n",
            "Adding op '76' of type const\n",
            "Adding op '77' of type const\n",
            "Adding op '78' of type const\n",
            "Adding op '79' of type const\n",
            "Adding op '80' of type const\n",
            "Adding op '81' of type const\n",
            "Adding op '82' of type const\n",
            "Adding op '83' of type const\n",
            "Adding op '84' of type const\n",
            "Adding op '85' of type const\n",
            "Adding op '86' of type const\n",
            "Adding op '87' of type const\n",
            "Adding op '88' of type const\n",
            "Adding op '89' of type const\n",
            "Adding op '90' of type const\n",
            "Adding op '91' of type const\n",
            "Adding op '92' of type const\n",
            "Adding op '93' of type const\n",
            "Adding op '94' of type const\n",
            "Adding op '95' of type const\n",
            "Adding op '96' of type const\n",
            "Adding op '97' of type const\n",
            "Adding op '98' of type const\n",
            "Adding op '99' of type const\n",
            "Adding op '100' of type const\n",
            "Adding op '101' of type const\n",
            "Adding op '102' of type const\n",
            "Adding op '103' of type const\n",
            "Adding op '104' of type const\n",
            "Adding op '105' of type const\n",
            "Adding op '106' of type const\n",
            "Adding op '107' of type const\n",
            "Adding op '108' of type const\n",
            "Adding op '109' of type const\n",
            "Adding op '110' of type const\n",
            "Adding op '111' of type const\n",
            "Adding op '112' of type const\n",
            "Adding op '113' of type const\n",
            "Adding op '114' of type const\n",
            "Adding op '115' of type const\n",
            "Adding op '116' of type const\n",
            "Adding op '117' of type const\n",
            "Adding op '118' of type const\n",
            "Adding op '119' of type const\n",
            "Adding op '120' of type const\n",
            "Adding op '121' of type const\n",
            "Adding op '122' of type const\n",
            "Adding op '123' of type const\n",
            "Adding op '124' of type const\n",
            "Adding op '125' of type const\n",
            "Adding op '126' of type const\n",
            "Adding op '127' of type const\n",
            "Adding op '128' of type const\n",
            "Adding op '129' of type const\n",
            "Adding op '130' of type const\n",
            "Adding op '131' of type const\n",
            "Adding op '132' of type const\n",
            "Adding op '133' of type const\n",
            "Adding op '134' of type const\n",
            "Adding op '135' of type const\n",
            "Adding op '136' of type const\n",
            "Adding op '137' of type const\n",
            "Adding op '138' of type const\n",
            "Adding op '139' of type const\n",
            "Adding op '140' of type const\n",
            "Adding op '141' of type const\n",
            "Adding op '142' of type const\n",
            "Adding op '143' of type const\n",
            "Adding op '144' of type const\n",
            "Adding op '145' of type const\n",
            "Adding op '146' of type const\n",
            "Adding op '147' of type const\n",
            "Adding op '148' of type const\n",
            "Adding op '149' of type const\n",
            "Adding op '150' of type const\n",
            "Adding op '151' of type const\n",
            "Adding op '152' of type const\n",
            "Adding op '153' of type const\n",
            "Adding op '154' of type const\n",
            "Adding op '155' of type const\n",
            "Adding op '156' of type const\n",
            "Converting Frontend ==> MIL Ops:   0% 0/932 [00:00<?, ? ops/s]Converting op 157 : constant\n",
            "Adding op '157' of type const\n",
            "Converting op 158 : constant\n",
            "Adding op '158' of type const\n",
            "Converting op 159 : constant\n",
            "Adding op '159' of type const\n",
            "Converting op 160 : constant\n",
            "Adding op '160' of type const\n",
            "Converting op 161 : constant\n",
            "Adding op '161' of type const\n",
            "Converting op 162 : constant\n",
            "Adding op '162' of type const\n",
            "Converting op 163 : constant\n",
            "Converting op 164 : constant\n",
            "Adding op '164' of type const\n",
            "Converting op 165 : constant\n",
            "Adding op '165' of type const\n",
            "Converting op 166 : slice\n",
            "Adding op '166' of type slice_by_index\n",
            "Adding op '166_begin_0' of type const\n",
            "Adding op '166_end_0' of type const\n",
            "Adding op '166_stride_0' of type const\n",
            "Adding op '166_end_mask_0' of type const\n",
            "Converting op 167 : slice\n",
            "Adding op '167' of type slice_by_index\n",
            "Adding op '167_begin_0' of type const\n",
            "Adding op '167_end_0' of type const\n",
            "Adding op '167_stride_0' of type const\n",
            "Adding op '167_end_mask_0' of type const\n",
            "Converting op 168 : slice\n",
            "Adding op '168' of type slice_by_index\n",
            "Adding op '168_begin_0' of type const\n",
            "Adding op '168_end_0' of type const\n",
            "Adding op '168_stride_0' of type const\n",
            "Adding op '168_end_mask_0' of type const\n",
            "Converting op 169 : slice\n",
            "Adding op '169' of type slice_by_index\n",
            "Adding op '169_begin_0' of type const\n",
            "Adding op '169_end_0' of type const\n",
            "Adding op '169_stride_0' of type const\n",
            "Adding op '169_end_mask_0' of type const\n",
            "Converting op 170 : slice\n",
            "Adding op '170' of type slice_by_index\n",
            "Adding op '170_begin_0' of type const\n",
            "Adding op '170_end_0' of type const\n",
            "Adding op '170_stride_0' of type const\n",
            "Adding op '170_end_mask_0' of type const\n",
            "Converting op 171 : slice\n",
            "Adding op '171' of type slice_by_index\n",
            "Adding op '171_begin_0' of type const\n",
            "Adding op '171_end_0' of type const\n",
            "Adding op '171_stride_0' of type const\n",
            "Adding op '171_end_mask_0' of type const\n",
            "Converting op 172 : slice\n",
            "Adding op '172' of type slice_by_index\n",
            "Adding op '172_begin_0' of type const\n",
            "Adding op '172_end_0' of type const\n",
            "Adding op '172_stride_0' of type const\n",
            "Adding op '172_end_mask_0' of type const\n",
            "Converting op 173 : slice\n",
            "Adding op '173' of type slice_by_index\n",
            "Adding op '173_begin_0' of type const\n",
            "Adding op '173_end_0' of type const\n",
            "Adding op '173_stride_0' of type const\n",
            "Adding op '173_end_mask_0' of type const\n",
            "Converting op 174 : listconstruct\n",
            "Converting op input.1 : cat\n",
            "Adding op 'input.1' of type concat\n",
            "Adding op 'input.1_interleave_0' of type const\n",
            "Converting op 176 : listconstruct\n",
            "Adding op '176' of type const\n",
            "Converting op 177 : listconstruct\n",
            "Adding op '177' of type const\n",
            "Converting op 178 : listconstruct\n",
            "Adding op '178' of type const\n",
            "Converting op 179 : listconstruct\n",
            "Adding op '179' of type const\n",
            "Converting op x.2 : _convolution\n",
            "Converting Frontend ==> MIL Ops:   0% 0/932 [00:00<?, ? ops/s]\n",
            "CoreML export failure: unexpected number of inputs for node x.2 (_convolution): 13\n",
            "\n",
            "Export complete (8.65s). Visualize with https://github.com/lutzroeder/netron.\n"
          ],
          "name": "stdout"
        }
      ]
    }
  ]
}