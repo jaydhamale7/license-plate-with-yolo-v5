{
  "nbformat": 4,
  "nbformat_minor": 0,
  "metadata": {
    "colab": {
      "name": "Lincense_plate with V5.ipynb",
      "provenance": []
    },
    "kernelspec": {
      "name": "python3",
      "display_name": "Python 3"
    },
    "accelerator": "GPU"
  },
  "cells": [
    {
      "cell_type": "code",
      "metadata": {
        "id": "p_lbAefI836L"
      },
      "source": [
        "from IPython.display import clear_output"
      ],
      "execution_count": null,
      "outputs": []
    },
    {
      "cell_type": "code",
      "metadata": {
        "id": "kFvac1J79rWq"
      },
      "source": [
        "!pip install openimages\r\n",
        "clear_output()"
      ],
      "execution_count": null,
      "outputs": []
    },
    {
      "cell_type": "code",
      "metadata": {
        "id": "5rm4-hB8-2U9"
      },
      "source": [
        "!mkdir data"
      ],
      "execution_count": null,
      "outputs": []
    },
    {
      "cell_type": "code",
      "metadata": {
        "id": "nB8XkChE-wg0"
      },
      "source": [
        "# !oi_download_images --csv_dir data --base_dir data --labels \"Vehicle registration plate\" --format \"darknet\" --limit 3000"
      ],
      "execution_count": null,
      "outputs": []
    },
    {
      "cell_type": "code",
      "metadata": {
        "colab": {
          "base_uri": "https://localhost:8080/"
        },
        "id": "DySvocVn_Okl",
        "outputId": "4a36b9ff-73a8-4d7d-9142-7ab20255fa5d"
      },
      "source": [
        "from openimages.download import download_dataset\r\n",
        "download_dataset(\"data\", [\"Vehicle registration plate\"], annotation_format=\"darknet\",limit=3000)"
      ],
      "execution_count": null,
      "outputs": [
        {
          "output_type": "stream",
          "text": [
            "2020-12-31  09:02:45 INFO NumExpr defaulting to 2 threads.\n",
            "2020-12-31  09:02:47 INFO Downloading 3000 train images for class 'vehicle registration plate'\n",
            "100%|██████████| 3000/3000 [00:28<00:00, 104.74it/s]\n",
            "2020-12-31  09:03:16 INFO Creating 3000 train annotations (darknet) for class 'vehicle registration plate'\n",
            "100%|██████████| 3000/3000 [00:01<00:00, 2654.92it/s]\n"
          ],
          "name": "stderr"
        },
        {
          "output_type": "execute_result",
          "data": {
            "text/plain": [
              "{'vehicle registration plate': {'annotations_dir': 'data/vehicle registration plate/darknet',\n",
              "  'images_dir': 'data/vehicle registration plate/images'}}"
            ]
          },
          "metadata": {
            "tags": []
          },
          "execution_count": 9
        }
      ]
    },
    {
      "cell_type": "code",
      "metadata": {
        "id": "eIsdLv7FCT0N"
      },
      "source": [
        "!mkdir dataset dataset/images dataset/labels\r\n",
        "!mkdir dataset/images/train dataset/images/val\r\n",
        "!mkdir dataset/labels/train dataset/labels/val"
      ],
      "execution_count": null,
      "outputs": []
    },
    {
      "cell_type": "code",
      "metadata": {
        "colab": {
          "base_uri": "https://localhost:8080/"
        },
        "id": "6VflYa6PAAG5",
        "outputId": "6107d044-db53-4c8a-97b5-480f7989536a"
      },
      "source": [
        "import os\r\n",
        "all_ = [i for i in os.listdir('/content/data/vehicle registration plate/images')]\r\n",
        "train = all_[:2400]\r\n",
        "test = all_[2400:]\r\n",
        "len(all_),len(train),len(test)"
      ],
      "execution_count": null,
      "outputs": [
        {
          "output_type": "execute_result",
          "data": {
            "text/plain": [
              "(3000, 2400, 600)"
            ]
          },
          "metadata": {
            "tags": []
          },
          "execution_count": 42
        }
      ]
    },
    {
      "cell_type": "code",
      "metadata": {
        "id": "HQRax85gMhAk"
      },
      "source": [
        "!cp data/vehicle\\ registration\\ plate/images/* dataset/images/train/\r\n",
        "!cp data/vehicle\\ registration\\ plate/images/* dataset/images/val/\r\n",
        "!cp data/vehicle\\ registration\\ plate/darknet/* dataset/labels/train/\r\n",
        "!cp data/vehicle\\ registration\\ plate/darknet/* dataset/labels/val/"
      ],
      "execution_count": null,
      "outputs": []
    },
    {
      "cell_type": "code",
      "metadata": {
        "id": "8YuasQ4SNJQ9"
      },
      "source": [
        "for i in os.listdir(\"/content/dataset/images/train\"):\r\n",
        "  if i not in train:\r\n",
        "    os.remove(f\"/content/dataset/images/train/{i}\")\r\n",
        "for i in os.listdir(\"/content/dataset/images/val\"):\r\n",
        "  if i not in test:\r\n",
        "    os.remove(f\"/content/dataset/images/val/{i}\")"
      ],
      "execution_count": null,
      "outputs": []
    },
    {
      "cell_type": "code",
      "metadata": {
        "colab": {
          "base_uri": "https://localhost:8080/"
        },
        "id": "S0W6N6k2NsOs",
        "outputId": "3cf1cd7f-a4e1-404c-b137-175b2b891e4d"
      },
      "source": [
        "len(os.listdir(\"/content/dataset/images/train\")),len(os.listdir(\"/content/dataset/images/val\"))"
      ],
      "execution_count": null,
      "outputs": [
        {
          "output_type": "execute_result",
          "data": {
            "text/plain": [
              "(2400, 600)"
            ]
          },
          "metadata": {
            "tags": []
          },
          "execution_count": 71
        }
      ]
    },
    {
      "cell_type": "code",
      "metadata": {
        "id": "kejaFi7sOMkK"
      },
      "source": [
        "for i in os.listdir(\"/content/data/vehicle registration plate/images\"):\r\n",
        "  if i not in train:\r\n",
        "    os.remove(f\"/content/dataset/labels/train/{i.split('.')[0]}.txt\")\r\n",
        "for i in os.listdir(\"/content/data/vehicle registration plate/images\"):\r\n",
        "  if i not in test:\r\n",
        "    os.remove(f\"/content/dataset/labels/val/{i.split('.')[0]}.txt\")"
      ],
      "execution_count": null,
      "outputs": []
    },
    {
      "cell_type": "code",
      "metadata": {
        "colab": {
          "base_uri": "https://localhost:8080/"
        },
        "id": "OL1WUcErOqbr",
        "outputId": "e572fa89-e3bc-4efe-ff15-34fd5880b5d9"
      },
      "source": [
        "len(os.listdir(\"/content/dataset/labels/train\")),len(os.listdir(\"/content/dataset/labels/val\"))"
      ],
      "execution_count": null,
      "outputs": [
        {
          "output_type": "execute_result",
          "data": {
            "text/plain": [
              "(2400, 600)"
            ]
          },
          "metadata": {
            "tags": []
          },
          "execution_count": 73
        }
      ]
    },
    {
      "cell_type": "markdown",
      "metadata": {
        "id": "M_kXWTI3QTBE"
      },
      "source": [
        "Yolo V5"
      ]
    },
    {
      "cell_type": "code",
      "metadata": {
        "colab": {
          "base_uri": "https://localhost:8080/"
        },
        "id": "Vpgul8gGFOj9",
        "outputId": "e54eb073-9133-4b54-82c3-c497a9b0d29f"
      },
      "source": [
        "!git clone https://github.com/ultralytics/yolov5  # clone repo\r\n",
        "%cd yolov5\r\n",
        "!pip install -r requirements.txt"
      ],
      "execution_count": null,
      "outputs": [
        {
          "output_type": "stream",
          "text": [
            "Cloning into 'yolov5'...\n",
            "remote: Enumerating objects: 111, done.\u001b[K\n",
            "remote: Counting objects: 100% (111/111), done.\u001b[K\n",
            "remote: Compressing objects: 100% (78/78), done.\u001b[K\n",
            "remote: Total 3773 (delta 68), reused 69 (delta 33), pack-reused 3662\u001b[K\n",
            "Receiving objects: 100% (3773/3773), 7.14 MiB | 35.51 MiB/s, done.\n",
            "Resolving deltas: 100% (2523/2523), done.\n",
            "/content/yolov5\n",
            "Requirement already satisfied: Cython in /usr/local/lib/python3.6/dist-packages (from -r requirements.txt (line 4)) (0.29.21)\n",
            "Requirement already satisfied: matplotlib>=3.2.2 in /usr/local/lib/python3.6/dist-packages (from -r requirements.txt (line 5)) (3.2.2)\n",
            "Requirement already satisfied: numpy>=1.18.5 in /usr/local/lib/python3.6/dist-packages (from -r requirements.txt (line 6)) (1.19.4)\n",
            "Requirement already satisfied: opencv-python>=4.1.2 in /usr/local/lib/python3.6/dist-packages (from -r requirements.txt (line 7)) (4.1.2.30)\n",
            "Requirement already satisfied: Pillow in /usr/local/lib/python3.6/dist-packages (from -r requirements.txt (line 8)) (7.0.0)\n",
            "Collecting PyYAML>=5.3\n",
            "\u001b[?25l  Downloading https://files.pythonhosted.org/packages/64/c2/b80047c7ac2478f9501676c988a5411ed5572f35d1beff9cae07d321512c/PyYAML-5.3.1.tar.gz (269kB)\n",
            "\u001b[K     |████████████████████████████████| 276kB 11.0MB/s \n",
            "\u001b[?25hRequirement already satisfied: scipy>=1.4.1 in /usr/local/lib/python3.6/dist-packages (from -r requirements.txt (line 10)) (1.4.1)\n",
            "Requirement already satisfied: tensorboard>=2.2 in /usr/local/lib/python3.6/dist-packages (from -r requirements.txt (line 11)) (2.4.0)\n",
            "Requirement already satisfied: torch>=1.7.0 in /usr/local/lib/python3.6/dist-packages (from -r requirements.txt (line 12)) (1.7.0+cu101)\n",
            "Requirement already satisfied: torchvision>=0.8.1 in /usr/local/lib/python3.6/dist-packages (from -r requirements.txt (line 13)) (0.8.1+cu101)\n",
            "Requirement already satisfied: tqdm>=4.41.0 in /usr/local/lib/python3.6/dist-packages (from -r requirements.txt (line 14)) (4.41.1)\n",
            "Requirement already satisfied: seaborn>=0.11.0 in /usr/local/lib/python3.6/dist-packages (from -r requirements.txt (line 20)) (0.11.0)\n",
            "Requirement already satisfied: pandas in /usr/local/lib/python3.6/dist-packages (from -r requirements.txt (line 21)) (1.1.5)\n",
            "Collecting thop\n",
            "  Downloading https://files.pythonhosted.org/packages/6c/8b/22ce44e1c71558161a8bd54471123cc796589c7ebbfc15a7e8932e522f83/thop-0.0.31.post2005241907-py3-none-any.whl\n",
            "Requirement already satisfied: pycocotools>=2.0 in /usr/local/lib/python3.6/dist-packages (from -r requirements.txt (line 30)) (2.0.2)\n",
            "Requirement already satisfied: pyparsing!=2.0.4,!=2.1.2,!=2.1.6,>=2.0.1 in /usr/local/lib/python3.6/dist-packages (from matplotlib>=3.2.2->-r requirements.txt (line 5)) (2.4.7)\n",
            "Requirement already satisfied: cycler>=0.10 in /usr/local/lib/python3.6/dist-packages (from matplotlib>=3.2.2->-r requirements.txt (line 5)) (0.10.0)\n",
            "Requirement already satisfied: kiwisolver>=1.0.1 in /usr/local/lib/python3.6/dist-packages (from matplotlib>=3.2.2->-r requirements.txt (line 5)) (1.3.1)\n",
            "Requirement already satisfied: python-dateutil>=2.1 in /usr/local/lib/python3.6/dist-packages (from matplotlib>=3.2.2->-r requirements.txt (line 5)) (2.8.1)\n",
            "Requirement already satisfied: wheel>=0.26; python_version >= \"3\" in /usr/local/lib/python3.6/dist-packages (from tensorboard>=2.2->-r requirements.txt (line 11)) (0.36.2)\n",
            "Requirement already satisfied: markdown>=2.6.8 in /usr/local/lib/python3.6/dist-packages (from tensorboard>=2.2->-r requirements.txt (line 11)) (3.3.3)\n",
            "Requirement already satisfied: requests<3,>=2.21.0 in /usr/local/lib/python3.6/dist-packages (from tensorboard>=2.2->-r requirements.txt (line 11)) (2.23.0)\n",
            "Requirement already satisfied: tensorboard-plugin-wit>=1.6.0 in /usr/local/lib/python3.6/dist-packages (from tensorboard>=2.2->-r requirements.txt (line 11)) (1.7.0)\n",
            "Requirement already satisfied: werkzeug>=0.11.15 in /usr/local/lib/python3.6/dist-packages (from tensorboard>=2.2->-r requirements.txt (line 11)) (1.0.1)\n",
            "Requirement already satisfied: absl-py>=0.4 in /usr/local/lib/python3.6/dist-packages (from tensorboard>=2.2->-r requirements.txt (line 11)) (0.10.0)\n",
            "Requirement already satisfied: google-auth-oauthlib<0.5,>=0.4.1 in /usr/local/lib/python3.6/dist-packages (from tensorboard>=2.2->-r requirements.txt (line 11)) (0.4.2)\n",
            "Requirement already satisfied: protobuf>=3.6.0 in /usr/local/lib/python3.6/dist-packages (from tensorboard>=2.2->-r requirements.txt (line 11)) (3.12.4)\n",
            "Requirement already satisfied: google-auth<2,>=1.6.3 in /usr/local/lib/python3.6/dist-packages (from tensorboard>=2.2->-r requirements.txt (line 11)) (1.17.2)\n",
            "Requirement already satisfied: setuptools>=41.0.0 in /usr/local/lib/python3.6/dist-packages (from tensorboard>=2.2->-r requirements.txt (line 11)) (51.0.0)\n",
            "Requirement already satisfied: grpcio>=1.24.3 in /usr/local/lib/python3.6/dist-packages (from tensorboard>=2.2->-r requirements.txt (line 11)) (1.32.0)\n",
            "Requirement already satisfied: six>=1.10.0 in /usr/local/lib/python3.6/dist-packages (from tensorboard>=2.2->-r requirements.txt (line 11)) (1.15.0)\n",
            "Requirement already satisfied: typing-extensions in /usr/local/lib/python3.6/dist-packages (from torch>=1.7.0->-r requirements.txt (line 12)) (3.7.4.3)\n",
            "Requirement already satisfied: dataclasses in /usr/local/lib/python3.6/dist-packages (from torch>=1.7.0->-r requirements.txt (line 12)) (0.8)\n",
            "Requirement already satisfied: future in /usr/local/lib/python3.6/dist-packages (from torch>=1.7.0->-r requirements.txt (line 12)) (0.16.0)\n",
            "Requirement already satisfied: pytz>=2017.2 in /usr/local/lib/python3.6/dist-packages (from pandas->-r requirements.txt (line 21)) (2018.9)\n",
            "Requirement already satisfied: importlib-metadata; python_version < \"3.8\" in /usr/local/lib/python3.6/dist-packages (from markdown>=2.6.8->tensorboard>=2.2->-r requirements.txt (line 11)) (3.3.0)\n",
            "Requirement already satisfied: chardet<4,>=3.0.2 in /usr/local/lib/python3.6/dist-packages (from requests<3,>=2.21.0->tensorboard>=2.2->-r requirements.txt (line 11)) (3.0.4)\n",
            "Requirement already satisfied: idna<3,>=2.5 in /usr/local/lib/python3.6/dist-packages (from requests<3,>=2.21.0->tensorboard>=2.2->-r requirements.txt (line 11)) (2.10)\n",
            "Requirement already satisfied: urllib3!=1.25.0,!=1.25.1,<1.26,>=1.21.1 in /usr/local/lib/python3.6/dist-packages (from requests<3,>=2.21.0->tensorboard>=2.2->-r requirements.txt (line 11)) (1.24.3)\n",
            "Requirement already satisfied: certifi>=2017.4.17 in /usr/local/lib/python3.6/dist-packages (from requests<3,>=2.21.0->tensorboard>=2.2->-r requirements.txt (line 11)) (2020.12.5)\n",
            "Requirement already satisfied: requests-oauthlib>=0.7.0 in /usr/local/lib/python3.6/dist-packages (from google-auth-oauthlib<0.5,>=0.4.1->tensorboard>=2.2->-r requirements.txt (line 11)) (1.3.0)\n",
            "Requirement already satisfied: pyasn1-modules>=0.2.1 in /usr/local/lib/python3.6/dist-packages (from google-auth<2,>=1.6.3->tensorboard>=2.2->-r requirements.txt (line 11)) (0.2.8)\n",
            "Requirement already satisfied: cachetools<5.0,>=2.0.0 in /usr/local/lib/python3.6/dist-packages (from google-auth<2,>=1.6.3->tensorboard>=2.2->-r requirements.txt (line 11)) (4.2.0)\n",
            "Requirement already satisfied: rsa<5,>=3.1.4; python_version >= \"3\" in /usr/local/lib/python3.6/dist-packages (from google-auth<2,>=1.6.3->tensorboard>=2.2->-r requirements.txt (line 11)) (4.6)\n",
            "Requirement already satisfied: zipp>=0.5 in /usr/local/lib/python3.6/dist-packages (from importlib-metadata; python_version < \"3.8\"->markdown>=2.6.8->tensorboard>=2.2->-r requirements.txt (line 11)) (3.4.0)\n",
            "Requirement already satisfied: oauthlib>=3.0.0 in /usr/local/lib/python3.6/dist-packages (from requests-oauthlib>=0.7.0->google-auth-oauthlib<0.5,>=0.4.1->tensorboard>=2.2->-r requirements.txt (line 11)) (3.1.0)\n",
            "Requirement already satisfied: pyasn1<0.5.0,>=0.4.6 in /usr/local/lib/python3.6/dist-packages (from pyasn1-modules>=0.2.1->google-auth<2,>=1.6.3->tensorboard>=2.2->-r requirements.txt (line 11)) (0.4.8)\n",
            "Building wheels for collected packages: PyYAML\n",
            "  Building wheel for PyYAML (setup.py) ... \u001b[?25l\u001b[?25hdone\n",
            "  Created wheel for PyYAML: filename=PyYAML-5.3.1-cp36-cp36m-linux_x86_64.whl size=44621 sha256=44b16bb2ef8679b354748f2f18f41980f6fa13b6341cbc84b453b9ab497ebd1f\n",
            "  Stored in directory: /root/.cache/pip/wheels/a7/c1/ea/cf5bd31012e735dc1dfea3131a2d5eae7978b251083d6247bd\n",
            "Successfully built PyYAML\n",
            "Installing collected packages: PyYAML, thop\n",
            "  Found existing installation: PyYAML 3.13\n",
            "    Uninstalling PyYAML-3.13:\n",
            "      Successfully uninstalled PyYAML-3.13\n",
            "Successfully installed PyYAML-5.3.1 thop-0.0.31.post2005241907\n"
          ],
          "name": "stdout"
        }
      ]
    },
    {
      "cell_type": "code",
      "metadata": {
        "colab": {
          "base_uri": "https://localhost:8080/"
        },
        "id": "-hyZqWeOQUf7",
        "outputId": "139857d6-23d5-4809-fa58-63113a34ef0a"
      },
      "source": [
        "import torch\r\n",
        "from IPython.display import Image, clear_output  # to display images\r\n",
        "\r\n",
        "clear_output()\r\n",
        "print('Setup complete. Using torch %s %s' % (torch.__version__, torch.cuda.get_device_properties(0) if torch.cuda.is_available() else 'CPU'))"
      ],
      "execution_count": null,
      "outputs": [
        {
          "output_type": "stream",
          "text": [
            "Setup complete. Using torch 1.7.0+cu101 _CudaDeviceProperties(name='Tesla T4', major=7, minor=5, total_memory=15079MB, multi_processor_count=40)\n"
          ],
          "name": "stdout"
        }
      ]
    },
    {
      "cell_type": "code",
      "metadata": {
        "id": "Wk-yP5HXDQwp"
      },
      "source": [
        "!cp /content/yolov5/data/coco128.yaml ../"
      ],
      "execution_count": null,
      "outputs": []
    },
    {
      "cell_type": "markdown",
      "metadata": {
        "id": "A7vfYbl9RDoY"
      },
      "source": [
        "train: ../coco128/images/train2017/  \r\n",
        "val: ../coco128/images/train2017/  \r\n",
        "\r\n",
        "# number of classes\r\n",
        "nc: 1\r\n",
        "\r\n",
        "# class names\r\n",
        "names: ['lincense_plate']\r\n"
      ]
    },
    {
      "cell_type": "code",
      "metadata": {
        "colab": {
          "base_uri": "https://localhost:8080/"
        },
        "id": "EZEIU4vhVph1",
        "outputId": "870340d3-14da-4ea3-b1f8-c458cb0825f3"
      },
      "source": [
        "!python train.py --img 640 --batch 64 --epochs 30 --data /content/data.yaml \\\r\n",
        " --weights yolov5s.pt --nosave --cache"
      ],
      "execution_count": null,
      "outputs": [
        {
          "output_type": "stream",
          "text": [
            "Using torch 1.7.0+cu101 CUDA:0 (Tesla T4, 15079.75MB)\n",
            "\n",
            "Namespace(adam=False, batch_size=64, bucket='', cache_images=True, cfg='', data='/content/data.yaml', device='', epochs=30, evolve=False, exist_ok=False, global_rank=-1, hyp='data/hyp.scratch.yaml', image_weights=False, img_size=[640, 640], local_rank=-1, log_artifacts=False, log_imgs=16, multi_scale=False, name='exp', noautoanchor=False, nosave=True, notest=False, project='runs/train', rect=False, resume=False, save_dir='runs/train/exp3', single_cls=False, sync_bn=False, total_batch_size=64, weights='yolov5s.pt', workers=8, world_size=1)\n",
            "Start Tensorboard with \"tensorboard --logdir runs/train\", view at http://localhost:6006/\n",
            "Hyperparameters {'lr0': 0.01, 'lrf': 0.2, 'momentum': 0.937, 'weight_decay': 0.0005, 'warmup_epochs': 3.0, 'warmup_momentum': 0.8, 'warmup_bias_lr': 0.1, 'box': 0.05, 'cls': 0.5, 'cls_pw': 1.0, 'obj': 1.0, 'obj_pw': 1.0, 'iou_t': 0.2, 'anchor_t': 4.0, 'fl_gamma': 0.0, 'hsv_h': 0.015, 'hsv_s': 0.7, 'hsv_v': 0.4, 'degrees': 0.0, 'translate': 0.1, 'scale': 0.5, 'shear': 0.0, 'perspective': 0.0, 'flipud': 0.0, 'fliplr': 0.5, 'mosaic': 1.0, 'mixup': 0.0}\n",
            "Overriding model.yaml nc=80 with nc=1\n",
            "\n",
            "                 from  n    params  module                                  arguments                     \n",
            "  0                -1  1      3520  models.common.Focus                     [3, 32, 3]                    \n",
            "  1                -1  1     18560  models.common.Conv                      [32, 64, 3, 2]                \n",
            "  2                -1  1     19904  models.common.BottleneckCSP             [64, 64, 1]                   \n",
            "  3                -1  1     73984  models.common.Conv                      [64, 128, 3, 2]               \n",
            "  4                -1  1    161152  models.common.BottleneckCSP             [128, 128, 3]                 \n",
            "  5                -1  1    295424  models.common.Conv                      [128, 256, 3, 2]              \n",
            "  6                -1  1    641792  models.common.BottleneckCSP             [256, 256, 3]                 \n",
            "  7                -1  1   1180672  models.common.Conv                      [256, 512, 3, 2]              \n",
            "  8                -1  1    656896  models.common.SPP                       [512, 512, [5, 9, 13]]        \n",
            "  9                -1  1   1248768  models.common.BottleneckCSP             [512, 512, 1, False]          \n",
            " 10                -1  1    131584  models.common.Conv                      [512, 256, 1, 1]              \n",
            " 11                -1  1         0  torch.nn.modules.upsampling.Upsample    [None, 2, 'nearest']          \n",
            " 12           [-1, 6]  1         0  models.common.Concat                    [1]                           \n",
            " 13                -1  1    378624  models.common.BottleneckCSP             [512, 256, 1, False]          \n",
            " 14                -1  1     33024  models.common.Conv                      [256, 128, 1, 1]              \n",
            " 15                -1  1         0  torch.nn.modules.upsampling.Upsample    [None, 2, 'nearest']          \n",
            " 16           [-1, 4]  1         0  models.common.Concat                    [1]                           \n",
            " 17                -1  1     95104  models.common.BottleneckCSP             [256, 128, 1, False]          \n",
            " 18                -1  1    147712  models.common.Conv                      [128, 128, 3, 2]              \n",
            " 19          [-1, 14]  1         0  models.common.Concat                    [1]                           \n",
            " 20                -1  1    313088  models.common.BottleneckCSP             [256, 256, 1, False]          \n",
            " 21                -1  1    590336  models.common.Conv                      [256, 256, 3, 2]              \n",
            " 22          [-1, 10]  1         0  models.common.Concat                    [1]                           \n",
            " 23                -1  1   1248768  models.common.BottleneckCSP             [512, 512, 1, False]          \n",
            " 24      [17, 20, 23]  1     16182  models.yolo.Detect                      [1, [[10, 13, 16, 30, 33, 23], [30, 61, 62, 45, 59, 119], [116, 90, 156, 198, 373, 326]], [128, 256, 512]]\n",
            "Model Summary: 283 layers, 7255094 parameters, 7255094 gradients, 16.8 GFLOPS\n",
            "\n",
            "Transferred 364/370 items from yolov5s.pt\n",
            "Optimizer groups: 62 .bias, 70 conv.weight, 59 other\n",
            "Scanning '../dataset/labels/train.cache' for images and labels... 2400 found, 0 missing, 0 empty, 0 corrupted: 100% 2400/2400 [00:00<00:00, 21059266.95it/s]\n",
            "Caching images (2.1GB): 100% 2400/2400 [00:29<00:00, 81.27it/s]\n",
            "Scanning '../dataset/labels/val.cache' for images and labels... 600 found, 0 missing, 0 empty, 0 corrupted: 100% 600/600 [00:00<00:00, 4534382.70it/s]\n",
            "Caching images (0.5GB): 100% 600/600 [00:11<00:00, 50.80it/s]\n",
            "Plotting labels... \n",
            "NumExpr defaulting to 2 threads.\n",
            "\n",
            "Analyzing anchors... anchors/target = 3.61, Best Possible Recall (BPR) = 0.9853\n",
            "Image sizes 640 train, 640 test\n",
            "Using 2 dataloader workers\n",
            "Logging results to runs/train/exp3\n",
            "Starting training for 30 epochs...\n",
            "\n",
            "     Epoch   gpu_mem       box       obj       cls     total   targets  img_size\n",
            "      0/29     7.13G    0.1142   0.01844         0    0.1326        79       640: 100% 38/38 [00:45<00:00,  1.20s/it]\n",
            "               Class      Images     Targets           P           R      mAP@.5  mAP@.5:.95: 100% 10/10 [00:15<00:00,  1.52s/it]\n",
            "                 all         600         802           0           0     0.00164    0.000312\n",
            "\n",
            "     Epoch   gpu_mem       box       obj       cls     total   targets  img_size\n",
            "      1/29     12.4G   0.09255   0.01629         0    0.1088        72       640: 100% 38/38 [00:34<00:00,  1.12it/s]\n",
            "               Class      Images     Targets           P           R      mAP@.5  mAP@.5:.95: 100% 10/10 [00:05<00:00,  1.96it/s]\n",
            "                 all         600         802       0.941     0.00249      0.0418      0.0139\n",
            "\n",
            "     Epoch   gpu_mem       box       obj       cls     total   targets  img_size\n",
            "      2/29     12.4G   0.07213   0.01803         0   0.09017        92       640: 100% 38/38 [00:34<00:00,  1.11it/s]\n",
            "               Class      Images     Targets           P           R      mAP@.5  mAP@.5:.95: 100% 10/10 [00:05<00:00,  1.95it/s]\n",
            "                 all         600         802       0.783     0.00456       0.206       0.062\n",
            "\n",
            "     Epoch   gpu_mem       box       obj       cls     total   targets  img_size\n",
            "      3/29     12.4G      0.06   0.01702         0   0.07703        78       640: 100% 38/38 [00:34<00:00,  1.11it/s]\n",
            "               Class      Images     Targets           P           R      mAP@.5  mAP@.5:.95: 100% 10/10 [00:05<00:00,  1.90it/s]\n",
            "                 all         600         802       0.291        0.55       0.341      0.0997\n",
            "\n",
            "     Epoch   gpu_mem       box       obj       cls     total   targets  img_size\n",
            "      4/29     12.4G    0.0555   0.01479         0   0.07029        67       640: 100% 38/38 [00:33<00:00,  1.12it/s]\n",
            "               Class      Images     Targets           P           R      mAP@.5  mAP@.5:.95: 100% 10/10 [00:04<00:00,  2.16it/s]\n",
            "                 all         600         802       0.434       0.734       0.615       0.233\n",
            "\n",
            "     Epoch   gpu_mem       box       obj       cls     total   targets  img_size\n",
            "      5/29     12.4G   0.05096   0.01345         0   0.06441        70       640: 100% 38/38 [00:33<00:00,  1.12it/s]\n",
            "               Class      Images     Targets           P           R      mAP@.5  mAP@.5:.95: 100% 10/10 [00:04<00:00,  2.22it/s]\n",
            "                 all         600         802       0.368       0.787        0.66       0.249\n",
            "\n",
            "     Epoch   gpu_mem       box       obj       cls     total   targets  img_size\n",
            "      6/29     12.4G   0.04976    0.0118         0   0.06155        74       640: 100% 38/38 [00:33<00:00,  1.12it/s]\n",
            "               Class      Images     Targets           P           R      mAP@.5  mAP@.5:.95: 100% 10/10 [00:04<00:00,  2.17it/s]\n",
            "                 all         600         802       0.366       0.817       0.615       0.198\n",
            "\n",
            "     Epoch   gpu_mem       box       obj       cls     total   targets  img_size\n",
            "      7/29     12.4G   0.04783   0.01083         0   0.05866        74       640: 100% 38/38 [00:34<00:00,  1.12it/s]\n",
            "               Class      Images     Targets           P           R      mAP@.5  mAP@.5:.95: 100% 10/10 [00:04<00:00,  2.22it/s]\n",
            "                 all         600         802       0.353        0.83       0.688       0.268\n",
            "\n",
            "     Epoch   gpu_mem       box       obj       cls     total   targets  img_size\n",
            "      8/29     12.4G   0.04518   0.01017         0   0.05535        68       640: 100% 38/38 [00:34<00:00,  1.11it/s]\n",
            "               Class      Images     Targets           P           R      mAP@.5  mAP@.5:.95: 100% 10/10 [00:04<00:00,  2.21it/s]\n",
            "                 all         600         802       0.417       0.849       0.773       0.329\n",
            "\n",
            "     Epoch   gpu_mem       box       obj       cls     total   targets  img_size\n",
            "      9/29     12.4G   0.04379  0.009385         0   0.05317        71       640: 100% 38/38 [00:34<00:00,  1.12it/s]\n",
            "               Class      Images     Targets           P           R      mAP@.5  mAP@.5:.95: 100% 10/10 [00:04<00:00,  2.22it/s]\n",
            "                 all         600         802       0.467       0.854       0.785       0.317\n",
            "\n",
            "     Epoch   gpu_mem       box       obj       cls     total   targets  img_size\n",
            "     10/29     12.4G   0.04301  0.009113         0   0.05212        92       640: 100% 38/38 [00:34<00:00,  1.11it/s]\n",
            "               Class      Images     Targets           P           R      mAP@.5  mAP@.5:.95: 100% 10/10 [00:04<00:00,  2.24it/s]\n",
            "                 all         600         802       0.523       0.853       0.785       0.357\n",
            "\n",
            "     Epoch   gpu_mem       box       obj       cls     total   targets  img_size\n",
            "     11/29     12.4G   0.04089  0.008694         0   0.04958        79       640: 100% 38/38 [00:34<00:00,  1.11it/s]\n",
            "               Class      Images     Targets           P           R      mAP@.5  mAP@.5:.95: 100% 10/10 [00:04<00:00,  2.30it/s]\n",
            "                 all         600         802       0.493        0.86       0.802       0.374\n",
            "\n",
            "     Epoch   gpu_mem       box       obj       cls     total   targets  img_size\n",
            "     12/29     12.4G   0.03941  0.008366         0   0.04777        73       640: 100% 38/38 [00:34<00:00,  1.11it/s]\n",
            "               Class      Images     Targets           P           R      mAP@.5  mAP@.5:.95: 100% 10/10 [00:04<00:00,  2.25it/s]\n",
            "                 all         600         802       0.515       0.852       0.776       0.347\n",
            "\n",
            "     Epoch   gpu_mem       box       obj       cls     total   targets  img_size\n",
            "     13/29     12.4G   0.03918  0.008072         0   0.04725        63       640: 100% 38/38 [00:34<00:00,  1.11it/s]\n",
            "               Class      Images     Targets           P           R      mAP@.5  mAP@.5:.95: 100% 10/10 [00:04<00:00,  2.28it/s]\n",
            "                 all         600         802       0.494       0.873       0.814       0.364\n",
            "\n",
            "     Epoch   gpu_mem       box       obj       cls     total   targets  img_size\n",
            "     14/29     12.4G   0.03769  0.007985         0   0.04568        67       640: 100% 38/38 [00:34<00:00,  1.11it/s]\n",
            "               Class      Images     Targets           P           R      mAP@.5  mAP@.5:.95: 100% 10/10 [00:04<00:00,  2.31it/s]\n",
            "                 all         600         802       0.522       0.864       0.808       0.381\n",
            "\n",
            "     Epoch   gpu_mem       box       obj       cls     total   targets  img_size\n",
            "     15/29     12.4G   0.03567   0.00777         0   0.04344        76       640: 100% 38/38 [00:33<00:00,  1.12it/s]\n",
            "               Class      Images     Targets           P           R      mAP@.5  mAP@.5:.95: 100% 10/10 [00:04<00:00,  2.29it/s]\n",
            "                 all         600         802       0.518       0.867       0.806       0.385\n",
            "\n",
            "     Epoch   gpu_mem       box       obj       cls     total   targets  img_size\n",
            "     16/29     12.4G   0.03484  0.007829         0   0.04267        62       640: 100% 38/38 [00:34<00:00,  1.10it/s]\n",
            "               Class      Images     Targets           P           R      mAP@.5  mAP@.5:.95: 100% 10/10 [00:04<00:00,  2.10it/s]\n",
            "                 all         600         802       0.531        0.86       0.797        0.37\n",
            "\n",
            "     Epoch   gpu_mem       box       obj       cls     total   targets  img_size\n",
            "     17/29     12.4G   0.03454  0.007532         0   0.04207        74       640: 100% 38/38 [00:34<00:00,  1.11it/s]\n",
            "               Class      Images     Targets           P           R      mAP@.5  mAP@.5:.95: 100% 10/10 [00:04<00:00,  2.32it/s]\n",
            "                 all         600         802       0.611       0.864        0.81       0.384\n",
            "\n",
            "     Epoch   gpu_mem       box       obj       cls     total   targets  img_size\n",
            "     18/29     12.4G    0.0337  0.007588         0   0.04129        84       640: 100% 38/38 [00:34<00:00,  1.11it/s]\n",
            "               Class      Images     Targets           P           R      mAP@.5  mAP@.5:.95: 100% 10/10 [00:04<00:00,  2.30it/s]\n",
            "                 all         600         802       0.554       0.877       0.813       0.385\n",
            "\n",
            "     Epoch   gpu_mem       box       obj       cls     total   targets  img_size\n",
            "     19/29     12.4G   0.03333  0.007402         0   0.04073        84       640: 100% 38/38 [00:34<00:00,  1.11it/s]\n",
            "               Class      Images     Targets           P           R      mAP@.5  mAP@.5:.95: 100% 10/10 [00:04<00:00,  2.31it/s]\n",
            "                 all         600         802       0.616        0.87        0.83       0.404\n",
            "\n",
            "     Epoch   gpu_mem       box       obj       cls     total   targets  img_size\n",
            "     20/29     12.4G   0.03251  0.007398         0   0.03991        97       640: 100% 38/38 [00:34<00:00,  1.11it/s]\n",
            "               Class      Images     Targets           P           R      mAP@.5  mAP@.5:.95: 100% 10/10 [00:04<00:00,  2.27it/s]\n",
            "                 all         600         802       0.573       0.877       0.824       0.409\n",
            "\n",
            "     Epoch   gpu_mem       box       obj       cls     total   targets  img_size\n",
            "     21/29     12.4G   0.03205  0.007214         0   0.03926        85       640: 100% 38/38 [00:34<00:00,  1.11it/s]\n",
            "               Class      Images     Targets           P           R      mAP@.5  mAP@.5:.95: 100% 10/10 [00:04<00:00,  2.13it/s]\n",
            "                 all         600         802       0.599       0.863       0.825       0.416\n",
            "\n",
            "     Epoch   gpu_mem       box       obj       cls     total   targets  img_size\n",
            "     22/29     12.4G   0.03108  0.007129         0    0.0382        85       640: 100% 38/38 [00:34<00:00,  1.10it/s]\n",
            "               Class      Images     Targets           P           R      mAP@.5  mAP@.5:.95: 100% 10/10 [00:04<00:00,  2.28it/s]\n",
            "                 all         600         802       0.578       0.874       0.825       0.415\n",
            "\n",
            "     Epoch   gpu_mem       box       obj       cls     total   targets  img_size\n",
            "     23/29     12.4G    0.0307  0.006906         0   0.03761        69       640: 100% 38/38 [00:34<00:00,  1.11it/s]\n",
            "               Class      Images     Targets           P           R      mAP@.5  mAP@.5:.95: 100% 10/10 [00:04<00:00,  2.31it/s]\n",
            "                 all         600         802       0.589        0.88       0.836       0.423\n",
            "\n",
            "     Epoch   gpu_mem       box       obj       cls     total   targets  img_size\n",
            "     24/29     12.4G   0.03038  0.006991         0   0.03737        74       640: 100% 38/38 [00:34<00:00,  1.11it/s]\n",
            "               Class      Images     Targets           P           R      mAP@.5  mAP@.5:.95: 100% 10/10 [00:04<00:00,  2.28it/s]\n",
            "                 all         600         802       0.653       0.869       0.838       0.428\n",
            "\n",
            "     Epoch   gpu_mem       box       obj       cls     total   targets  img_size\n",
            "     25/29     12.4G   0.03026  0.006895         0   0.03716        61       640: 100% 38/38 [00:34<00:00,  1.11it/s]\n",
            "               Class      Images     Targets           P           R      mAP@.5  mAP@.5:.95: 100% 10/10 [00:04<00:00,  2.24it/s]\n",
            "                 all         600         802       0.628       0.863       0.826       0.418\n",
            "\n",
            "     Epoch   gpu_mem       box       obj       cls     total   targets  img_size\n",
            "     26/29     12.4G   0.02927    0.0069         0   0.03617        77       640: 100% 38/38 [00:34<00:00,  1.11it/s]\n",
            "               Class      Images     Targets           P           R      mAP@.5  mAP@.5:.95: 100% 10/10 [00:04<00:00,  2.21it/s]\n",
            "                 all         600         802       0.601       0.875       0.838       0.433\n",
            "\n",
            "     Epoch   gpu_mem       box       obj       cls     total   targets  img_size\n",
            "     27/29     12.4G   0.02909  0.006909         0     0.036        77       640: 100% 38/38 [00:34<00:00,  1.10it/s]\n",
            "               Class      Images     Targets           P           R      mAP@.5  mAP@.5:.95: 100% 10/10 [00:04<00:00,  2.33it/s]\n",
            "                 all         600         802       0.608       0.878       0.841       0.428\n",
            "\n",
            "     Epoch   gpu_mem       box       obj       cls     total   targets  img_size\n",
            "     28/29     12.4G   0.02864  0.006804         0   0.03544        71       640: 100% 38/38 [00:34<00:00,  1.11it/s]\n",
            "               Class      Images     Targets           P           R      mAP@.5  mAP@.5:.95: 100% 10/10 [00:04<00:00,  2.26it/s]\n",
            "                 all         600         802       0.627       0.868       0.835        0.42\n",
            "\n",
            "     Epoch   gpu_mem       box       obj       cls     total   targets  img_size\n",
            "     29/29     12.4G    0.0288  0.006731         0   0.03554        79       640: 100% 38/38 [00:34<00:00,  1.11it/s]\n",
            "               Class      Images     Targets           P           R      mAP@.5  mAP@.5:.95: 100% 10/10 [00:06<00:00,  1.61it/s]\n",
            "                 all         600         802       0.638       0.873        0.84       0.433\n",
            "Optimizer stripped from runs/train/exp3/weights/last.pt, 14.8MB\n",
            "30 epochs completed in 0.331 hours.\n",
            "\n"
          ],
          "name": "stdout"
        }
      ]
    },
    {
      "cell_type": "markdown",
      "metadata": {
        "id": "krsDBXFvRnEz"
      },
      "source": [
        "Export"
      ]
    },
    {
      "cell_type": "code",
      "metadata": {
        "id": "rV826Bp0fYlO"
      },
      "source": [
        "!pip install onnx\r\n",
        "!pip install coremltools\r\n",
        "clear_output()"
      ],
      "execution_count": null,
      "outputs": []
    },
    {
      "cell_type": "code",
      "metadata": {
        "colab": {
          "base_uri": "https://localhost:8080/"
        },
        "id": "-Es4iIftrdBJ",
        "outputId": "816bcf4d-8d91-41ac-f1f3-aa61157fc3ad"
      },
      "source": [
        "!python models/export.py --weights runs/train/exp3/weights/last.pt --img 640 --batch 1"
      ],
      "execution_count": null,
      "outputs": [
        {
          "output_type": "stream",
          "text": [
            "Namespace(batch_size=1, img_size=[640, 640], weights='runs/train/exp3/weights/last.pt')\n",
            "Fusing layers... \n",
            "Model Summary: 232 layers, 7246518 parameters, 0 gradients, 16.8 GFLOPS\n",
            "\n",
            "Starting TorchScript export with torch 1.7.0+cu101...\n",
            "/usr/local/lib/python3.6/dist-packages/torch/jit/_trace.py:940: TracerWarning: Encountering a list at the output of the tracer might cause the trace to be incorrect, this is only valid if the container structure does not change based on the module's inputs. Consider using a constant container instead (e.g. for `list`, use a `tuple` instead. for `dict`, use a `NamedTuple` instead). If you absolutely need this and know the side effects, pass strict=False to trace() to allow this behavior.\n",
            "  _force_outplace,\n",
            "TorchScript export success, saved as runs/train/exp3/weights/last.torchscript.pt\n",
            "\n",
            "Starting ONNX export with onnx 1.8.0...\n",
            "ONNX export success, saved as runs/train/exp3/weights/last.onnx\n",
            "scikit-learn version 0.22.2.post1 is not supported. Minimum required version: 0.17. Maximum required version: 0.19.2. Disabling scikit-learn conversion API.\n",
            "TensorFlow version 2.4.0 detected. Last version known to be fully compatible is 2.3.1 .\n",
            "Keras version 2.4.3 detected. Last version known to be fully compatible of Keras is 2.2.4 .\n",
            "\n",
            "Starting CoreML export with coremltools 4.0...\n",
            "Tuple detected at graph output. This will be flattened in the converted model.\n",
            "Converting graph.\n",
            "Adding op '1' of type const\n",
            "Adding op '2' of type const\n",
            "Adding op '3' of type const\n",
            "Adding op '4' of type const\n",
            "Adding op '5' of type const\n",
            "Adding op '6' of type const\n",
            "Adding op '7' of type const\n",
            "Adding op '8' of type const\n",
            "Adding op '9' of type const\n",
            "Adding op '10' of type const\n",
            "Adding op '11' of type const\n",
            "Adding op '12' of type const\n",
            "Adding op '13' of type const\n",
            "Adding op '14' of type const\n",
            "Adding op '15' of type const\n",
            "Adding op '16' of type const\n",
            "Adding op '17' of type const\n",
            "Adding op '18' of type const\n",
            "Adding op '19' of type const\n",
            "Adding op '20' of type const\n",
            "Adding op '21' of type const\n",
            "Adding op '22' of type const\n",
            "Adding op '23' of type const\n",
            "Adding op '24' of type const\n",
            "Adding op '25' of type const\n",
            "Adding op '26' of type const\n",
            "Adding op '27' of type const\n",
            "Adding op '28' of type const\n",
            "Adding op '29' of type const\n",
            "Adding op '30' of type const\n",
            "Adding op '31' of type const\n",
            "Adding op '32' of type const\n",
            "Adding op '33' of type const\n",
            "Adding op '34' of type const\n",
            "Adding op '35' of type const\n",
            "Adding op '36' of type const\n",
            "Adding op '37' of type const\n",
            "Adding op '38' of type const\n",
            "Adding op '39' of type const\n",
            "Adding op '40' of type const\n",
            "Adding op '41' of type const\n",
            "Adding op '42' of type const\n",
            "Adding op '43' of type const\n",
            "Adding op '44' of type const\n",
            "Adding op '45' of type const\n",
            "Adding op '46' of type const\n",
            "Adding op '47' of type const\n",
            "Adding op '48' of type const\n",
            "Adding op '49' of type const\n",
            "Adding op '50' of type const\n",
            "Adding op '51' of type const\n",
            "Adding op '52' of type const\n",
            "Adding op '53' of type const\n",
            "Adding op '54' of type const\n",
            "Adding op '55' of type const\n",
            "Adding op '56' of type const\n",
            "Adding op '57' of type const\n",
            "Adding op '58' of type const\n",
            "Adding op '59' of type const\n",
            "Adding op '60' of type const\n",
            "Adding op '61' of type const\n",
            "Adding op '62' of type const\n",
            "Adding op '63' of type const\n",
            "Adding op '64' of type const\n",
            "Adding op '65' of type const\n",
            "Adding op '66' of type const\n",
            "Adding op '67' of type const\n",
            "Adding op '68' of type const\n",
            "Adding op '69' of type const\n",
            "Adding op '70' of type const\n",
            "Adding op '71' of type const\n",
            "Adding op '72' of type const\n",
            "Adding op '73' of type const\n",
            "Adding op '74' of type const\n",
            "Adding op '75' of type const\n",
            "Adding op '76' of type const\n",
            "Adding op '77' of type const\n",
            "Adding op '78' of type const\n",
            "Adding op '79' of type const\n",
            "Adding op '80' of type const\n",
            "Adding op '81' of type const\n",
            "Adding op '82' of type const\n",
            "Adding op '83' of type const\n",
            "Adding op '84' of type const\n",
            "Adding op '85' of type const\n",
            "Adding op '86' of type const\n",
            "Adding op '87' of type const\n",
            "Adding op '88' of type const\n",
            "Adding op '89' of type const\n",
            "Adding op '90' of type const\n",
            "Adding op '91' of type const\n",
            "Adding op '92' of type const\n",
            "Adding op '93' of type const\n",
            "Adding op '94' of type const\n",
            "Adding op '95' of type const\n",
            "Adding op '96' of type const\n",
            "Adding op '97' of type const\n",
            "Adding op '98' of type const\n",
            "Adding op '99' of type const\n",
            "Adding op '100' of type const\n",
            "Adding op '101' of type const\n",
            "Adding op '102' of type const\n",
            "Adding op '103' of type const\n",
            "Adding op '104' of type const\n",
            "Adding op '105' of type const\n",
            "Adding op '106' of type const\n",
            "Adding op '107' of type const\n",
            "Adding op '108' of type const\n",
            "Adding op '109' of type const\n",
            "Adding op '110' of type const\n",
            "Adding op '111' of type const\n",
            "Adding op '112' of type const\n",
            "Adding op '113' of type const\n",
            "Adding op '114' of type const\n",
            "Adding op '115' of type const\n",
            "Adding op '116' of type const\n",
            "Adding op '117' of type const\n",
            "Adding op '118' of type const\n",
            "Adding op '119' of type const\n",
            "Adding op '120' of type const\n",
            "Adding op '121' of type const\n",
            "Adding op '122' of type const\n",
            "Adding op '123' of type const\n",
            "Adding op '124' of type const\n",
            "Adding op '125' of type const\n",
            "Adding op '126' of type const\n",
            "Adding op '127' of type const\n",
            "Adding op '128' of type const\n",
            "Adding op '129' of type const\n",
            "Adding op '130' of type const\n",
            "Adding op '131' of type const\n",
            "Adding op '132' of type const\n",
            "Adding op '133' of type const\n",
            "Adding op '134' of type const\n",
            "Adding op '135' of type const\n",
            "Adding op '136' of type const\n",
            "Adding op '137' of type const\n",
            "Adding op '138' of type const\n",
            "Adding op '139' of type const\n",
            "Adding op '140' of type const\n",
            "Adding op '141' of type const\n",
            "Adding op '142' of type const\n",
            "Adding op '143' of type const\n",
            "Adding op '144' of type const\n",
            "Adding op '145' of type const\n",
            "Adding op '146' of type const\n",
            "Adding op '147' of type const\n",
            "Adding op '148' of type const\n",
            "Adding op '149' of type const\n",
            "Adding op '150' of type const\n",
            "Adding op '151' of type const\n",
            "Adding op '152' of type const\n",
            "Adding op '153' of type const\n",
            "Adding op '154' of type const\n",
            "Adding op '155' of type const\n",
            "Adding op '156' of type const\n",
            "Converting Frontend ==> MIL Ops:   0% 0/932 [00:00<?, ? ops/s]Converting op 157 : constant\n",
            "Adding op '157' of type const\n",
            "Converting op 158 : constant\n",
            "Adding op '158' of type const\n",
            "Converting op 159 : constant\n",
            "Adding op '159' of type const\n",
            "Converting op 160 : constant\n",
            "Adding op '160' of type const\n",
            "Converting op 161 : constant\n",
            "Adding op '161' of type const\n",
            "Converting op 162 : constant\n",
            "Adding op '162' of type const\n",
            "Converting op 163 : constant\n",
            "Converting op 164 : constant\n",
            "Adding op '164' of type const\n",
            "Converting op 165 : constant\n",
            "Adding op '165' of type const\n",
            "Converting op 166 : slice\n",
            "Adding op '166' of type slice_by_index\n",
            "Adding op '166_begin_0' of type const\n",
            "Adding op '166_end_0' of type const\n",
            "Adding op '166_stride_0' of type const\n",
            "Adding op '166_end_mask_0' of type const\n",
            "Converting op 167 : slice\n",
            "Adding op '167' of type slice_by_index\n",
            "Adding op '167_begin_0' of type const\n",
            "Adding op '167_end_0' of type const\n",
            "Adding op '167_stride_0' of type const\n",
            "Adding op '167_end_mask_0' of type const\n",
            "Converting op 168 : slice\n",
            "Adding op '168' of type slice_by_index\n",
            "Adding op '168_begin_0' of type const\n",
            "Adding op '168_end_0' of type const\n",
            "Adding op '168_stride_0' of type const\n",
            "Adding op '168_end_mask_0' of type const\n",
            "Converting op 169 : slice\n",
            "Adding op '169' of type slice_by_index\n",
            "Adding op '169_begin_0' of type const\n",
            "Adding op '169_end_0' of type const\n",
            "Adding op '169_stride_0' of type const\n",
            "Adding op '169_end_mask_0' of type const\n",
            "Converting op 170 : slice\n",
            "Adding op '170' of type slice_by_index\n",
            "Adding op '170_begin_0' of type const\n",
            "Adding op '170_end_0' of type const\n",
            "Adding op '170_stride_0' of type const\n",
            "Adding op '170_end_mask_0' of type const\n",
            "Converting op 171 : slice\n",
            "Adding op '171' of type slice_by_index\n",
            "Adding op '171_begin_0' of type const\n",
            "Adding op '171_end_0' of type const\n",
            "Adding op '171_stride_0' of type const\n",
            "Adding op '171_end_mask_0' of type const\n",
            "Converting op 172 : slice\n",
            "Adding op '172' of type slice_by_index\n",
            "Adding op '172_begin_0' of type const\n",
            "Adding op '172_end_0' of type const\n",
            "Adding op '172_stride_0' of type const\n",
            "Adding op '172_end_mask_0' of type const\n",
            "Converting op 173 : slice\n",
            "Adding op '173' of type slice_by_index\n",
            "Adding op '173_begin_0' of type const\n",
            "Adding op '173_end_0' of type const\n",
            "Adding op '173_stride_0' of type const\n",
            "Adding op '173_end_mask_0' of type const\n",
            "Converting op 174 : listconstruct\n",
            "Converting op input.1 : cat\n",
            "Adding op 'input.1' of type concat\n",
            "Adding op 'input.1_interleave_0' of type const\n",
            "Converting op 176 : listconstruct\n",
            "Adding op '176' of type const\n",
            "Converting op 177 : listconstruct\n",
            "Adding op '177' of type const\n",
            "Converting op 178 : listconstruct\n",
            "Adding op '178' of type const\n",
            "Converting op 179 : listconstruct\n",
            "Adding op '179' of type const\n",
            "Converting op x.2 : _convolution\n",
            "Converting Frontend ==> MIL Ops:   0% 0/932 [00:00<?, ? ops/s]\n",
            "CoreML export failure: unexpected number of inputs for node x.2 (_convolution): 13\n",
            "\n",
            "Export complete (8.65s). Visualize with https://github.com/lutzroeder/netron.\n"
          ],
          "name": "stdout"
        }
      ]
    },
    {
      "cell_type": "code",
      "metadata": {
        "id": "yi0SqJWRswnA"
      },
      "source": [
        ""
      ],
      "execution_count": null,
      "outputs": []
    },
    {
      "cell_type": "code",
      "metadata": {
        "id": "yDcekieGrc2u"
      },
      "source": [
        ""
      ],
      "execution_count": null,
      "outputs": []
    },
    {
      "cell_type": "code",
      "metadata": {
        "id": "NDWeHhPIL_s9"
      },
      "source": [
        ""
      ],
      "execution_count": null,
      "outputs": []
    }
  ]
}